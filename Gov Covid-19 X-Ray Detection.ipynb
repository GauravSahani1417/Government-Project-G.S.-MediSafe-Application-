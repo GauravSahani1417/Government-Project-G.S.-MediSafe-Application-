{
 "cells": [
  {
   "cell_type": "code",
   "execution_count": 1,
   "metadata": {},
   "outputs": [
    {
     "name": "stderr",
     "output_type": "stream",
     "text": [
      "Using TensorFlow backend.\n"
     ]
    }
   ],
   "source": [
    "from keras.models import Sequential\n",
    "from keras.layers import Conv2D\n",
    "from keras.layers import MaxPooling2D\n",
    "from keras.layers import Flatten\n",
    "from keras.layers import Dense"
   ]
  },
  {
   "cell_type": "code",
   "execution_count": 2,
   "metadata": {},
   "outputs": [],
   "source": [
    "classifier = Sequential()\n",
    "\n",
    "classifier.add(Conv2D(24, (3, 3), input_shape = (94, 94, 3), activation = 'relu'))\n",
    "classifier.add(MaxPooling2D(pool_size = (2, 2)))\n",
    "\n",
    "classifier.add(Conv2D(24, (3, 3), activation = 'relu'))\n",
    "classifier.add(MaxPooling2D(pool_size = (2, 2)))\n",
    "\n",
    "classifier.add(Conv2D(24, (3, 3), activation = 'relu'))\n",
    "classifier.add(MaxPooling2D(pool_size = (2, 2)))\n",
    "\n",
    "classifier.add(Flatten())\n",
    "\n",
    "classifier.add(Dense(units = 32, activation = 'relu'))\n",
    "classifier.add(Dense(units = 1, activation = 'sigmoid'))"
   ]
  },
  {
   "cell_type": "code",
   "execution_count": 3,
   "metadata": {},
   "outputs": [],
   "source": [
    "classifier.compile(optimizer = 'adam', loss = 'binary_crossentropy', metrics = ['accuracy'])"
   ]
  },
  {
   "cell_type": "code",
   "execution_count": 4,
   "metadata": {},
   "outputs": [],
   "source": [
    "from keras_preprocessing.image import ImageDataGenerator\n",
    "train_datagen = ImageDataGenerator(rescale = 1./255,\n",
    "                                   shear_range = 0.2,\n",
    "                                   zoom_range = 0.3,\n",
    "                                   horizontal_flip = True)\n",
    "\n",
    "test_datagen = ImageDataGenerator(rescale = 1./255)"
   ]
  },
  {
   "cell_type": "code",
   "execution_count": 5,
   "metadata": {},
   "outputs": [
    {
     "name": "stdout",
     "output_type": "stream",
     "text": [
      "Found 1300 images belonging to 2 classes.\n"
     ]
    }
   ],
   "source": [
    "training_set = train_datagen.flow_from_directory('C:/Users/gaurav sahani/Desktop/Govt Project/CovidXray2/Pediatric Chest X-ray Pneumonia/train',\n",
    "                                                 target_size = (94, 94),\n",
    "                                                 batch_size = 32,\n",
    "                                                 class_mode = 'binary')"
   ]
  },
  {
   "cell_type": "code",
   "execution_count": 6,
   "metadata": {},
   "outputs": [
    {
     "name": "stdout",
     "output_type": "stream",
     "text": [
      "Found 370 images belonging to 2 classes.\n"
     ]
    }
   ],
   "source": [
    "test_set = test_datagen.flow_from_directory('C:/Users/gaurav sahani/Desktop/Govt Project/CovidXray2/Pediatric Chest X-ray Pneumonia/test',\n",
    "                                            target_size = (94, 94),\n",
    "                                            batch_size = 32,\n",
    "                                            class_mode = 'binary')"
   ]
  },
  {
   "cell_type": "code",
   "execution_count": 7,
   "metadata": {
    "scrolled": true
   },
   "outputs": [
    {
     "name": "stdout",
     "output_type": "stream",
     "text": [
      "Epoch 1/25\n",
      "41/41 [==============================] - 228s 6s/step - loss: 0.6587 - accuracy: 0.6100 - val_loss: 0.6484 - val_accuracy: 0.3919\n",
      "Epoch 2/25\n",
      "41/41 [==============================] - 231s 6s/step - loss: 0.5429 - accuracy: 0.7177 - val_loss: 0.3627 - val_accuracy: 0.7756\n",
      "Epoch 3/25\n",
      "41/41 [==============================] - 230s 6s/step - loss: 0.4927 - accuracy: 0.7808 - val_loss: 0.2740 - val_accuracy: 0.8325\n",
      "Epoch 4/25\n",
      "41/41 [==============================] - 231s 6s/step - loss: 0.3817 - accuracy: 0.8331 - val_loss: 0.2887 - val_accuracy: 0.8461\n",
      "Epoch 5/25\n",
      "41/41 [==============================] - 232s 6s/step - loss: 0.3477 - accuracy: 0.8308 - val_loss: 0.5365 - val_accuracy: 0.8081\n",
      "Epoch 6/25\n",
      "41/41 [==============================] - 232s 6s/step - loss: 0.3315 - accuracy: 0.8785 - val_loss: 0.3202 - val_accuracy: 0.8405\n",
      "Epoch 7/25\n",
      "41/41 [==============================] - 252s 6s/step - loss: 0.3080 - accuracy: 0.8708 - val_loss: 0.3710 - val_accuracy: 0.8486\n",
      "Epoch 8/25\n",
      "41/41 [==============================] - 251s 6s/step - loss: 0.3448 - accuracy: 0.8477 - val_loss: 0.2771 - val_accuracy: 0.8408\n",
      "Epoch 9/25\n",
      "41/41 [==============================] - 233s 6s/step - loss: 0.3251 - accuracy: 0.8654 - val_loss: 0.4042 - val_accuracy: 0.8296\n",
      "Epoch 10/25\n",
      "41/41 [==============================] - 235s 6s/step - loss: 0.3086 - accuracy: 0.8715 - val_loss: 0.5424 - val_accuracy: 0.8459\n",
      "Epoch 11/25\n",
      "41/41 [==============================] - 232s 6s/step - loss: 0.2873 - accuracy: 0.8862 - val_loss: 0.4956 - val_accuracy: 0.8595\n",
      "Epoch 12/25\n",
      "41/41 [==============================] - 240s 6s/step - loss: 0.2944 - accuracy: 0.8823 - val_loss: 0.2494 - val_accuracy: 0.8541\n",
      "Epoch 13/25\n",
      "41/41 [==============================] - 242s 6s/step - loss: 0.2795 - accuracy: 0.8815 - val_loss: 0.7246 - val_accuracy: 0.8025\n",
      "Epoch 14/25\n",
      "41/41 [==============================] - 249s 6s/step - loss: 0.2925 - accuracy: 0.8800 - val_loss: 0.4840 - val_accuracy: 0.8218\n",
      "Epoch 15/25\n",
      "41/41 [==============================] - 254s 6s/step - loss: 0.3029 - accuracy: 0.8854 - val_loss: 0.3704 - val_accuracy: 0.8405\n",
      "Epoch 16/25\n",
      "41/41 [==============================] - 258s 6s/step - loss: 0.2742 - accuracy: 0.8946 - val_loss: 0.5204 - val_accuracy: 0.8486\n",
      "Epoch 17/25\n",
      "41/41 [==============================] - 238s 6s/step - loss: 0.2818 - accuracy: 0.8815 - val_loss: 0.7896 - val_accuracy: 0.8596\n",
      "Epoch 18/25\n",
      "41/41 [==============================] - 233s 6s/step - loss: 0.2725 - accuracy: 0.8838 - val_loss: 0.1824 - val_accuracy: 0.8703\n",
      "Epoch 19/25\n",
      "41/41 [==============================] - 231s 6s/step - loss: 0.2395 - accuracy: 0.9046 - val_loss: 0.3031 - val_accuracy: 0.8676\n",
      "Epoch 20/25\n",
      "41/41 [==============================] - 233s 6s/step - loss: 0.2603 - accuracy: 0.8962 - val_loss: 0.4057 - val_accuracy: 0.8597\n",
      "Epoch 21/25\n",
      "41/41 [==============================] - 236s 6s/step - loss: 0.2419 - accuracy: 0.9115 - val_loss: 0.6964 - val_accuracy: 0.8540\n",
      "Epoch 22/25\n",
      "41/41 [==============================] - 243s 6s/step - loss: 0.2536 - accuracy: 0.8992 - val_loss: 0.3213 - val_accuracy: 0.8651\n",
      "Epoch 23/25\n",
      "41/41 [==============================] - 232s 6s/step - loss: 0.2369 - accuracy: 0.9092 - val_loss: 0.2854 - val_accuracy: 0.8596\n",
      "Epoch 24/25\n",
      "41/41 [==============================] - 233s 6s/step - loss: 0.2369 - accuracy: 0.9077 - val_loss: 1.1985 - val_accuracy: 0.8620\n",
      "Epoch 25/25\n",
      "41/41 [==============================] - 234s 6s/step - loss: 0.2476 - accuracy: 0.8931 - val_loss: 0.6567 - val_accuracy: 0.8621\n"
     ]
    },
    {
     "data": {
      "text/plain": [
       "<keras.callbacks.callbacks.History at 0x14de0bc9908>"
      ]
     },
     "execution_count": 7,
     "metadata": {},
     "output_type": "execute_result"
    }
   ],
   "source": [
    "classifier.fit_generator(training_set,\n",
    "                         epochs =25,\n",
    "                         validation_data = test_set,\n",
    "                         validation_steps = 1000)"
   ]
  },
  {
   "cell_type": "code",
   "execution_count": 8,
   "metadata": {},
   "outputs": [],
   "source": [
    "import numpy as np\n",
    "from keras.preprocessing import image"
   ]
  },
  {
   "cell_type": "code",
   "execution_count": 10,
   "metadata": {},
   "outputs": [
    {
     "data": {
      "image/png": "[encoded data removed]",
      "text/plain": [
       "<PIL.Image.Image image mode=RGB size=94x94 at 0x14DE0ED47C8>"
      ]
     },
     "execution_count": 10,
     "metadata": {},
     "output_type": "execute_result"
    }
   ],
   "source": [
    "test_image=image.load_img('C:/Users/gaurav sahani/Desktop/Govt Project/CovidXray2/Pediatric Chest X-ray Pneumonia/train/PNEUMONIA/1.jpeg', target_size = (94, 94))\n",
    "test_image"
   ]
  },
  {
   "cell_type": "code",
   "execution_count": 11,
   "metadata": {},
   "outputs": [],
   "source": [
    "test_image=image.img_to_array(test_image)\n",
    "test_image=np.expand_dims(test_image, axis = 0)"
   ]
  },
  {
   "cell_type": "code",
   "execution_count": 12,
   "metadata": {},
   "outputs": [
    {
     "data": {
      "text/plain": [
       "array([[1.]], dtype=float32)"
      ]
     },
     "execution_count": 12,
     "metadata": {},
     "output_type": "execute_result"
    }
   ],
   "source": [
    "result = classifier.predict(test_image)\n",
    "result"
   ]
  },
  {
   "cell_type": "code",
   "execution_count": 14,
   "metadata": {},
   "outputs": [],
   "source": [
    "classifier.save('GovCovidXray.h5')"
   ]
  },
  {
   "cell_type": "code",
   "execution_count": null,
   "metadata": {},
   "outputs": [],
   "source": []
  }
 ],
 "metadata": {
  "kernelspec": {
   "display_name": "Python 3",
   "language": "python",
   "name": "python3"
  },
  "language_info": {
   "codemirror_mode": {
    "name": "ipython",
    "version": 3
   },
   "file_extension": ".py",
   "mimetype": "text/x-python",
   "name": "python",
   "nbconvert_exporter": "python",
   "pygments_lexer": "ipython3",
   "version": "3.7.7"
  }
 },
 "nbformat": 4,
 "nbformat_minor": 4
}
