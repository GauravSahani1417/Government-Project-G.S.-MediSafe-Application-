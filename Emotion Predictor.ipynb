{
 "cells": [
  {
   "cell_type": "code",
   "execution_count": 52,
   "metadata": {},
   "outputs": [],
   "source": [
    "import pandas as pd\n",
    "import pickle"
   ]
  },
  {
   "cell_type": "code",
   "execution_count": 2,
   "metadata": {},
   "outputs": [
    {
     "data": {
      "text/html": [
       "<div>\n",
       "<style scoped>\n",
       "    .dataframe tbody tr th:only-of-type {\n",
       "        vertical-align: middle;\n",
       "    }\n",
       "\n",
       "    .dataframe tbody tr th {\n",
       "        vertical-align: top;\n",
       "    }\n",
       "\n",
       "    .dataframe thead th {\n",
       "        text-align: right;\n",
       "    }\n",
       "</style>\n",
       "<table border=\"1\" class=\"dataframe\">\n",
       "  <thead>\n",
       "    <tr style=\"text-align: right;\">\n",
       "      <th></th>\n",
       "      <th>Emotion</th>\n",
       "      <th>Text</th>\n",
       "    </tr>\n",
       "  </thead>\n",
       "  <tbody>\n",
       "    <tr>\n",
       "      <th>0</th>\n",
       "      <td>happy</td>\n",
       "      <td>I suppose I am happy being so ` tiny' ; it mea...</td>\n",
       "    </tr>\n",
       "    <tr>\n",
       "      <th>1</th>\n",
       "      <td>happy</td>\n",
       "      <td>Lennox has always truly wanted to fight for th...</td>\n",
       "    </tr>\n",
       "    <tr>\n",
       "      <th>2</th>\n",
       "      <td>happy</td>\n",
       "      <td>He was a professional musician now , still sen...</td>\n",
       "    </tr>\n",
       "    <tr>\n",
       "      <th>3</th>\n",
       "      <td>happy</td>\n",
       "      <td>Holmes is happy having the freedom of the hous...</td>\n",
       "    </tr>\n",
       "    <tr>\n",
       "      <th>4</th>\n",
       "      <td>happy</td>\n",
       "      <td>I had problems with tutors trying to encourage...</td>\n",
       "    </tr>\n",
       "  </tbody>\n",
       "</table>\n",
       "</div>"
      ],
      "text/plain": [
       "  Emotion                                               Text\n",
       "0   happy  I suppose I am happy being so ` tiny' ; it mea...\n",
       "1   happy  Lennox has always truly wanted to fight for th...\n",
       "2   happy  He was a professional musician now , still sen...\n",
       "3   happy  Holmes is happy having the freedom of the hous...\n",
       "4   happy  I had problems with tutors trying to encourage..."
      ]
     },
     "execution_count": 2,
     "metadata": {},
     "output_type": "execute_result"
    }
   ],
   "source": [
    "df=pd.read_csv('emotion-stimulus.csv.txt')\n",
    "df.head()"
   ]
  },
  {
   "cell_type": "code",
   "execution_count": 3,
   "metadata": {},
   "outputs": [
    {
     "data": {
      "text/plain": [
       "sad         575\n",
       "anger       483\n",
       "happy       479\n",
       "fear        423\n",
       "surprise    213\n",
       "shame       146\n",
       "disgust      95\n",
       "Name: Emotion, dtype: int64"
      ]
     },
     "execution_count": 3,
     "metadata": {},
     "output_type": "execute_result"
    }
   ],
   "source": [
    "df['Emotion'].value_counts()"
   ]
  },
  {
   "cell_type": "code",
   "execution_count": 4,
   "metadata": {},
   "outputs": [],
   "source": [
    "from sklearn.preprocessing import LabelEncoder\n",
    "encoder=LabelEncoder()"
   ]
  },
  {
   "cell_type": "code",
   "execution_count": 5,
   "metadata": {},
   "outputs": [],
   "source": [
    "df[\"Emotion\"]=encoder.fit_transform(df['Emotion'])"
   ]
  },
  {
   "cell_type": "code",
   "execution_count": 6,
   "metadata": {},
   "outputs": [
    {
     "data": {
      "text/plain": [
       "Emotion    0\n",
       "Text       0\n",
       "dtype: int64"
      ]
     },
     "execution_count": 6,
     "metadata": {},
     "output_type": "execute_result"
    }
   ],
   "source": [
    "df.isnull().sum()"
   ]
  },
  {
   "cell_type": "code",
   "execution_count": 7,
   "metadata": {},
   "outputs": [
    {
     "name": "stderr",
     "output_type": "stream",
     "text": [
      "[nltk_data] Downloading package stopwords to C:\\Users\\gaurav\n",
      "[nltk_data]     sahani\\AppData\\Roaming\\nltk_data...\n",
      "[nltk_data]   Package stopwords is already up-to-date!\n"
     ]
    }
   ],
   "source": [
    "import nltk\n",
    "import re\n",
    "nltk.download('stopwords')\n",
    "from nltk.corpus import stopwords\n",
    "from nltk.stem import WordNetLemmatizer"
   ]
  },
  {
   "cell_type": "code",
   "execution_count": 8,
   "metadata": {},
   "outputs": [],
   "source": [
    "corpus = []\n",
    "lm = WordNetLemmatizer()"
   ]
  },
  {
   "cell_type": "code",
   "execution_count": 9,
   "metadata": {},
   "outputs": [
    {
     "data": {
      "text/plain": [
       "'These days he is quite happy travelling by trolley . '"
      ]
     },
     "execution_count": 9,
     "metadata": {},
     "output_type": "execute_result"
    }
   ],
   "source": [
    "df['Text'][5]"
   ]
  },
  {
   "cell_type": "code",
   "execution_count": 10,
   "metadata": {},
   "outputs": [],
   "source": [
    "for i in range(0, len(df)):\n",
    "    \n",
    "    text = re.sub('[^a-zA-Z]', ' ', df['Text'][i])\n",
    "    text = text.lower()\n",
    "    words = text.split()\n",
    "    words = [word for word in words if word not in set(stopwords.words('english'))]\n",
    "    words = [lm.lemmatize(word) for word in words]\n",
    "    text = ' '.join(words)\n",
    "    corpus.append(text)"
   ]
  },
  {
   "cell_type": "code",
   "execution_count": 11,
   "metadata": {},
   "outputs": [
    {
     "data": {
      "text/plain": [
       "'lennox always truly wanted fight world title happy taking tough route'"
      ]
     },
     "execution_count": 11,
     "metadata": {},
     "output_type": "execute_result"
    }
   ],
   "source": [
    "corpus[1]"
   ]
  },
  {
   "cell_type": "code",
   "execution_count": 12,
   "metadata": {},
   "outputs": [],
   "source": [
    "from sklearn.feature_extraction.text import TfidfVectorizer\n",
    "tf = TfidfVectorizer(max_features=1800)\n",
    "X = tf.fit_transform(corpus).toarray()"
   ]
  },
  {
   "cell_type": "code",
   "execution_count": 13,
   "metadata": {},
   "outputs": [
    {
     "data": {
      "text/plain": [
       "array([[0.        , 0.        , 0.36074443, ..., 0.        , 0.        ,\n",
       "        0.        ],\n",
       "       [0.        , 0.        , 0.        , ..., 0.        , 0.        ,\n",
       "        0.        ],\n",
       "       [0.        , 0.        , 0.        , ..., 0.        , 0.        ,\n",
       "        0.        ],\n",
       "       ...,\n",
       "       [0.        , 0.        , 0.        , ..., 0.        , 0.        ,\n",
       "        0.        ],\n",
       "       [0.        , 0.        , 0.        , ..., 0.        , 0.        ,\n",
       "        0.        ],\n",
       "       [0.        , 0.        , 0.        , ..., 0.        , 0.        ,\n",
       "        0.        ]])"
      ]
     },
     "execution_count": 13,
     "metadata": {},
     "output_type": "execute_result"
    }
   ],
   "source": [
    "X"
   ]
  },
  {
   "cell_type": "code",
   "execution_count": 14,
   "metadata": {},
   "outputs": [],
   "source": [
    "y=df[['Emotion']]"
   ]
  },
  {
   "cell_type": "code",
   "execution_count": 15,
   "metadata": {},
   "outputs": [
    {
     "data": {
      "text/html": [
       "<div>\n",
       "<style scoped>\n",
       "    .dataframe tbody tr th:only-of-type {\n",
       "        vertical-align: middle;\n",
       "    }\n",
       "\n",
       "    .dataframe tbody tr th {\n",
       "        vertical-align: top;\n",
       "    }\n",
       "\n",
       "    .dataframe thead th {\n",
       "        text-align: right;\n",
       "    }\n",
       "</style>\n",
       "<table border=\"1\" class=\"dataframe\">\n",
       "  <thead>\n",
       "    <tr style=\"text-align: right;\">\n",
       "      <th></th>\n",
       "      <th>Emotion</th>\n",
       "    </tr>\n",
       "  </thead>\n",
       "  <tbody>\n",
       "    <tr>\n",
       "      <th>0</th>\n",
       "      <td>3</td>\n",
       "    </tr>\n",
       "    <tr>\n",
       "      <th>1</th>\n",
       "      <td>3</td>\n",
       "    </tr>\n",
       "    <tr>\n",
       "      <th>2</th>\n",
       "      <td>3</td>\n",
       "    </tr>\n",
       "    <tr>\n",
       "      <th>3</th>\n",
       "      <td>3</td>\n",
       "    </tr>\n",
       "    <tr>\n",
       "      <th>4</th>\n",
       "      <td>3</td>\n",
       "    </tr>\n",
       "    <tr>\n",
       "      <th>...</th>\n",
       "      <td>...</td>\n",
       "    </tr>\n",
       "    <tr>\n",
       "      <th>2409</th>\n",
       "      <td>5</td>\n",
       "    </tr>\n",
       "    <tr>\n",
       "      <th>2410</th>\n",
       "      <td>5</td>\n",
       "    </tr>\n",
       "    <tr>\n",
       "      <th>2411</th>\n",
       "      <td>5</td>\n",
       "    </tr>\n",
       "    <tr>\n",
       "      <th>2412</th>\n",
       "      <td>5</td>\n",
       "    </tr>\n",
       "    <tr>\n",
       "      <th>2413</th>\n",
       "      <td>5</td>\n",
       "    </tr>\n",
       "  </tbody>\n",
       "</table>\n",
       "<p>2414 rows × 1 columns</p>\n",
       "</div>"
      ],
      "text/plain": [
       "      Emotion\n",
       "0           3\n",
       "1           3\n",
       "2           3\n",
       "3           3\n",
       "4           3\n",
       "...       ...\n",
       "2409        5\n",
       "2410        5\n",
       "2411        5\n",
       "2412        5\n",
       "2413        5\n",
       "\n",
       "[2414 rows x 1 columns]"
      ]
     },
     "execution_count": 15,
     "metadata": {},
     "output_type": "execute_result"
    }
   ],
   "source": [
    "y"
   ]
  },
  {
   "cell_type": "code",
   "execution_count": 46,
   "metadata": {},
   "outputs": [],
   "source": [
    "from sklearn.model_selection import train_test_split\n",
    "X_train, X_test, y_train, y_test = train_test_split(X, y, test_size=0.20, random_state=2)"
   ]
  },
  {
   "cell_type": "code",
   "execution_count": 47,
   "metadata": {},
   "outputs": [
    {
     "name": "stderr",
     "output_type": "stream",
     "text": [
      "D:\\anaconda\\envs\\Govt\\lib\\site-packages\\sklearn\\utils\\validation.py:72: DataConversionWarning: A column-vector y was passed when a 1d array was expected. Please change the shape of y to (n_samples, ), for example using ravel().\n",
      "  return f(**kwargs)\n"
     ]
    },
    {
     "data": {
      "text/plain": [
       "MultinomialNB()"
      ]
     },
     "execution_count": 47,
     "metadata": {},
     "output_type": "execute_result"
    }
   ],
   "source": [
    "from sklearn.naive_bayes import MultinomialNB\n",
    "MultiNB= MultinomialNB()\n",
    "MultiNB.fit(X_train, y_train)"
   ]
  },
  {
   "cell_type": "code",
   "execution_count": 48,
   "metadata": {},
   "outputs": [
    {
     "data": {
      "text/plain": [
       "array([6, 3, 0, 3, 3, 0, 4, 0, 4, 4, 3, 0, 4, 3, 4, 2, 2, 3, 4, 4, 4, 2,\n",
       "       0, 4, 4, 0, 3, 3, 3, 4, 2, 0, 0, 2, 0, 3, 4, 6, 4, 0, 3, 3, 0, 3,\n",
       "       3, 4, 2, 4, 4, 2, 3, 0, 4, 0, 4, 3, 6, 4, 2, 0, 3, 2, 0, 3, 2, 0,\n",
       "       2, 4, 4, 4, 0, 4, 2, 2, 4, 4, 2, 0, 4, 3, 4, 3, 0, 4, 3, 4, 4, 2,\n",
       "       0, 4, 2, 3, 0, 4, 0, 0, 0, 4, 4, 0, 0, 3, 3, 2, 2, 2, 4, 3, 3, 2,\n",
       "       3, 3, 0, 4, 4, 4, 3, 4, 2, 0, 4, 4, 0, 2, 3, 4, 4, 0, 6, 4, 4, 4,\n",
       "       0, 2, 4, 3, 3, 4, 2, 4, 0, 4, 2, 0, 4, 0, 3, 2, 2, 0, 6, 4, 2, 3,\n",
       "       0, 0, 4, 4, 0, 4, 2, 3, 3, 4, 2, 4, 0, 4, 0, 4, 4, 4, 4, 3, 3, 0,\n",
       "       2, 0, 4, 0, 2, 3, 3, 2, 0, 3, 0, 2, 0, 0, 3, 4, 4, 6, 0, 4, 4, 4,\n",
       "       4, 4, 4, 4, 3, 4, 4, 4, 2, 3, 6, 0, 2, 2, 3, 0, 2, 2, 3, 2, 3, 6,\n",
       "       2, 3, 4, 3, 4, 4, 3, 3, 3, 2, 0, 4, 2, 2, 4, 0, 0, 4, 4, 4, 0, 2,\n",
       "       2, 0, 2, 0, 0, 4, 4, 0, 4, 2, 4, 4, 2, 0, 4, 4, 2, 4, 4, 4, 0, 3,\n",
       "       4, 4, 2, 3, 4, 3, 2, 0, 4, 2, 2, 6, 0, 3, 0, 4, 2, 0, 2, 2, 4, 3,\n",
       "       4, 0, 3, 3, 4, 2, 4, 2, 3, 0, 0, 3, 2, 2, 2, 0, 3, 0, 4, 3, 2, 0,\n",
       "       4, 3, 4, 0, 4, 4, 4, 0, 0, 4, 6, 3, 2, 0, 2, 4, 0, 3, 5, 4, 4, 4,\n",
       "       2, 4, 0, 4, 0, 6, 3, 4, 0, 0, 2, 3, 4, 6, 3, 4, 4, 3, 2, 4, 3, 4,\n",
       "       2, 3, 0, 3, 0, 2, 2, 2, 2, 0, 4, 4, 3, 4, 0, 4, 4, 4, 4, 0, 3, 0,\n",
       "       0, 4, 2, 6, 3, 3, 3, 2, 3, 4, 0, 3, 2, 2, 4, 2, 4, 3, 4, 0, 4, 0,\n",
       "       4, 3, 3, 4, 2, 3, 4, 4, 3, 3, 0, 3, 4, 4, 0, 4, 2, 3, 3, 0, 2, 0,\n",
       "       0, 2, 4, 0, 4, 0, 0, 0, 2, 4, 4, 4, 4, 4, 3, 4, 3, 0, 6, 4, 2, 4,\n",
       "       4, 0, 4, 0, 3, 3, 4, 4, 3, 2, 4, 0, 4, 0, 4, 4, 4, 4, 4, 2, 0, 3,\n",
       "       0, 4, 4, 0, 0, 0, 0, 2, 3, 4, 0, 4, 3, 0, 0, 0, 0, 4, 4, 3, 2])"
      ]
     },
     "execution_count": 48,
     "metadata": {},
     "output_type": "execute_result"
    }
   ],
   "source": [
    "y_pred=MultiNB.predict(X_test)\n",
    "y_pred"
   ]
  },
  {
   "cell_type": "code",
   "execution_count": 49,
   "metadata": {},
   "outputs": [
    {
     "data": {
      "text/plain": [
       "array([[ 89,   0,   1,   2,   4,   0,   0],\n",
       "       [  5,   0,   1,   2,   8,   0,   0],\n",
       "       [  3,   0,  77,   3,  14,   0,   0],\n",
       "       [  5,   0,   1,  82,   3,   0,   0],\n",
       "       [  0,   0,   0,   1, 115,   0,   0],\n",
       "       [  7,   0,   4,   5,   7,   1,   0],\n",
       "       [  5,   0,   4,   3,  17,   0,  14]], dtype=int64)"
      ]
     },
     "execution_count": 49,
     "metadata": {},
     "output_type": "execute_result"
    }
   ],
   "source": [
    "from sklearn.metrics import confusion_matrix\n",
    "confusion_m = confusion_matrix(y_test,y_pred)\n",
    "confusion_m"
   ]
  },
  {
   "cell_type": "code",
   "execution_count": 50,
   "metadata": {},
   "outputs": [
    {
     "data": {
      "text/plain": [
       "0.782608695652174"
      ]
     },
     "execution_count": 50,
     "metadata": {},
     "output_type": "execute_result"
    }
   ],
   "source": [
    "from sklearn.metrics import accuracy_score\n",
    "accuracy_score(y_test,y_pred)"
   ]
  },
  {
   "cell_type": "code",
   "execution_count": 53,
   "metadata": {},
   "outputs": [],
   "source": [
    "filename = 'govtemotion-model.pkl'\n",
    "pickle.dump(MultiNB, open(filename, 'wb'))"
   ]
  },
  {
   "cell_type": "code",
   "execution_count": null,
   "metadata": {},
   "outputs": [],
   "source": [
    "def ps(text):\n",
    "    text = re.sub('[^a-zA-Z]', ' ', df['Text'][i])\n",
    "    text = text.lower()\n",
    "    words = text.split()\n",
    "    words = [word for word in words if word not in set(stopwords.words('english'))]\n",
    "    words = [lm.lemmatize(word) for word in words]\n",
    "    text = ' '.join(words)\n",
    "    text = tf.fit_transform(text).toarray()\n",
    "    pre = MultiNB.predict(text)\n",
    "    if pre[0] ='Dipresive':\n",
    "        return 'Dipresive'\n",
    "    else:\n",
    "        return 'Normal'"
   ]
  }
 ],
 "metadata": {
  "kernelspec": {
   "display_name": "Python 3",
   "language": "python",
   "name": "python3"
  },
  "language_info": {
   "codemirror_mode": {
    "name": "ipython",
    "version": 3
   },
   "file_extension": ".py",
   "mimetype": "text/x-python",
   "name": "python",
   "nbconvert_exporter": "python",
   "pygments_lexer": "ipython3",
   "version": "3.7.7"
  }
 },
 "nbformat": 4,
 "nbformat_minor": 4
}
