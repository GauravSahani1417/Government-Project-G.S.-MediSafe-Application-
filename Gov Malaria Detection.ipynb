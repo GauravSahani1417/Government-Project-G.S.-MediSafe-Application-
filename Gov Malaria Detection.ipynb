{
 "cells": [
  {
   "cell_type": "code",
   "execution_count": 1,
   "metadata": {},
   "outputs": [
    {
     "name": "stderr",
     "output_type": "stream",
     "text": [
      "Using TensorFlow backend.\n"
     ]
    }
   ],
   "source": [
    "from keras.models import Sequential\n",
    "from keras.layers import Conv2D\n",
    "from keras.layers import MaxPooling2D\n",
    "from keras.layers import Flatten\n",
    "from keras.layers import Dense"
   ]
  },
  {
   "cell_type": "code",
   "execution_count": 2,
   "metadata": {},
   "outputs": [],
   "source": [
    "classifier = Sequential()\n",
    "\n",
    "classifier.add(Conv2D(24, (3, 3), input_shape = (94, 94, 3), activation = 'relu'))\n",
    "classifier.add(MaxPooling2D(pool_size = (2, 2)))\n",
    "\n",
    "classifier.add(Conv2D(24, (3, 3), activation = 'relu'))\n",
    "classifier.add(MaxPooling2D(pool_size = (2, 2)))\n",
    "\n",
    "classifier.add(Conv2D(24, (3, 3), activation = 'relu'))\n",
    "classifier.add(MaxPooling2D(pool_size = (2, 2)))\n",
    "\n",
    "classifier.add(Flatten())\n",
    "\n",
    "classifier.add(Dense(units = 32, activation = 'relu'))\n",
    "classifier.add(Dense(units = 1, activation = 'sigmoid'))"
   ]
  },
  {
   "cell_type": "code",
   "execution_count": 3,
   "metadata": {},
   "outputs": [],
   "source": [
    "classifier.compile(optimizer = 'adam', loss = 'binary_crossentropy', metrics = ['accuracy'])"
   ]
  },
  {
   "cell_type": "code",
   "execution_count": 4,
   "metadata": {},
   "outputs": [],
   "source": [
    "from keras_preprocessing.image import ImageDataGenerator\n",
    "train_datagen = ImageDataGenerator(rescale = 1./255,\n",
    "                                   shear_range = 0.2,\n",
    "                                   horizontal_flip = True)\n",
    "\n",
    "test_datagen = ImageDataGenerator(rescale = 1./255)"
   ]
  },
  {
   "cell_type": "code",
   "execution_count": 5,
   "metadata": {},
   "outputs": [
    {
     "name": "stdout",
     "output_type": "stream",
     "text": [
      "Found 2400 images belonging to 2 classes.\n"
     ]
    }
   ],
   "source": [
    "training_set = train_datagen.flow_from_directory('C:/Users/gaurav sahani/Desktop/Govt Project/Malaria Data/Malaria Train',\n",
    "                                                 target_size = (94,94 ),\n",
    "                                                 batch_size = 32,\n",
    "                                                 class_mode = 'binary')"
   ]
  },
  {
   "cell_type": "code",
   "execution_count": 6,
   "metadata": {},
   "outputs": [
    {
     "name": "stdout",
     "output_type": "stream",
     "text": [
      "Found 600 images belonging to 2 classes.\n"
     ]
    }
   ],
   "source": [
    "test_set = test_datagen.flow_from_directory('C:/Users/gaurav sahani/Desktop/Govt Project/Malaria Data/Malaria Test',\n",
    "                                            target_size = (94, 94),\n",
    "                                            batch_size = 32,\n",
    "                                            class_mode = 'binary')"
   ]
  },
  {
   "cell_type": "code",
   "execution_count": 7,
   "metadata": {},
   "outputs": [
    {
     "name": "stdout",
     "output_type": "stream",
     "text": [
      "Epoch 1/20\n",
      "75/75 [==============================] - 62s 831ms/step - loss: 0.1170 - accuracy: 0.9575 - val_loss: 0.2494 - val_accuracy: 0.8302\n",
      "Epoch 2/20\n",
      "75/75 [==============================] - 62s 833ms/step - loss: 0.0227 - accuracy: 0.9962 - val_loss: 1.0333 - val_accuracy: 0.8831\n",
      "Epoch 3/20\n",
      "75/75 [==============================] - 62s 830ms/step - loss: 0.0187 - accuracy: 0.9971 - val_loss: 0.7946 - val_accuracy: 0.8832\n",
      "Epoch 4/20\n",
      "75/75 [==============================] - 63s 835ms/step - loss: 0.0195 - accuracy: 0.9971 - val_loss: 0.3843 - val_accuracy: 0.8833\n",
      "Epoch 5/20\n",
      "75/75 [==============================] - 62s 823ms/step - loss: 0.0197 - accuracy: 0.9971 - val_loss: 0.7422 - val_accuracy: 0.8832\n",
      "Epoch 6/20\n",
      "75/75 [==============================] - 62s 829ms/step - loss: 0.0179 - accuracy: 0.9971 - val_loss: 0.5478 - val_accuracy: 0.8835\n",
      "Epoch 7/20\n",
      "75/75 [==============================] - 62s 829ms/step - loss: 0.0191 - accuracy: 0.9971 - val_loss: 0.1835 - val_accuracy: 0.8833\n",
      "Epoch 8/20\n",
      "75/75 [==============================] - 63s 839ms/step - loss: 0.0178 - accuracy: 0.9971 - val_loss: 0.0078 - val_accuracy: 0.8835\n",
      "Epoch 9/20\n",
      "75/75 [==============================] - 62s 824ms/step - loss: 0.0165 - accuracy: 0.9971 - val_loss: 1.0391 - val_accuracy: 0.8833\n",
      "Epoch 10/20\n",
      "75/75 [==============================] - 62s 825ms/step - loss: 0.0132 - accuracy: 0.9971 - val_loss: 1.2361 - val_accuracy: 0.8833\n",
      "Epoch 11/20\n",
      "75/75 [==============================] - 62s 832ms/step - loss: 0.0133 - accuracy: 0.9971 - val_loss: 0.9764 - val_accuracy: 0.8833\n",
      "Epoch 12/20\n",
      "75/75 [==============================] - 62s 833ms/step - loss: 0.0109 - accuracy: 0.9971 - val_loss: 1.1169 - val_accuracy: 0.8833\n",
      "Epoch 13/20\n",
      "75/75 [==============================] - 63s 839ms/step - loss: 0.6335 - accuracy: 0.6463 - val_loss: 0.6442 - val_accuracy: 0.5001\n",
      "Epoch 14/20\n",
      "75/75 [==============================] - 64s 852ms/step - loss: 0.6110 - accuracy: 0.6583 - val_loss: 0.4704 - val_accuracy: 0.8700\n",
      "Epoch 15/20\n",
      "75/75 [==============================] - 63s 845ms/step - loss: 0.0622 - accuracy: 0.9921 - val_loss: 0.8293 - val_accuracy: 0.8815- loss: 0.0637 - accu\n",
      "Epoch 16/20\n",
      "75/75 [==============================] - 69s 926ms/step - loss: 0.0268 - accuracy: 0.9958 - val_loss: 1.1302 - val_accuracy: 0.8834\n",
      "Epoch 17/20\n",
      "75/75 [==============================] - 60s 806ms/step - loss: 0.0215 - accuracy: 0.9971 - val_loss: 0.2699 - val_accuracy: 0.8835\n",
      "Epoch 18/20\n",
      "75/75 [==============================] - 63s 839ms/step - loss: 0.0214 - accuracy: 0.9971 - val_loss: 0.8471 - val_accuracy: 0.8833\n",
      "Epoch 19/20\n",
      "75/75 [==============================] - 67s 895ms/step - loss: 0.0198 - accuracy: 0.9971 - val_loss: 0.5278 - val_accuracy: 0.8833\n",
      "Epoch 20/20\n",
      "75/75 [==============================] - 65s 860ms/step - loss: 0.0196 - accuracy: 0.9971 - val_loss: 0.3171 - val_accuracy: 0.8832\n"
     ]
    },
    {
     "data": {
      "text/plain": [
       "<keras.callbacks.callbacks.History at 0x2542e227648>"
      ]
     },
     "execution_count": 7,
     "metadata": {},
     "output_type": "execute_result"
    }
   ],
   "source": [
    "classifier.fit_generator(training_set,\n",
    "                         epochs =20 ,\n",
    "                         validation_data = test_set,\n",
    "                         validation_steps = 1000)"
   ]
  },
  {
   "cell_type": "code",
   "execution_count": 8,
   "metadata": {},
   "outputs": [],
   "source": [
    "import numpy as np\n",
    "from keras.preprocessing import image"
   ]
  },
  {
   "cell_type": "code",
   "execution_count": 10,
   "metadata": {},
   "outputs": [
    {
     "data": {
      "image/png": "[encoded data removed]",
      "text/plain": [
       "<PIL.Image.Image image mode=RGB size=94x94 at 0x2542E5B6D88>"
      ]
     },
     "execution_count": 10,
     "metadata": {},
     "output_type": "execute_result"
    }
   ],
   "source": [
    "test_image=image.load_img('C:/Users/gaurav sahani/Desktop/Govt Project/Malaria Data/Malaria Test/Uninfected/1.png', target_size = (94, 94))\n",
    "test_image"
   ]
  },
  {
   "cell_type": "code",
   "execution_count": 11,
   "metadata": {},
   "outputs": [],
   "source": [
    "test_image=image.img_to_array(test_image)\n",
    "test_image=np.expand_dims(test_image, axis = 0)"
   ]
  },
  {
   "cell_type": "code",
   "execution_count": 12,
   "metadata": {},
   "outputs": [
    {
     "data": {
      "text/plain": [
       "array([[1.]], dtype=float32)"
      ]
     },
     "execution_count": 12,
     "metadata": {},
     "output_type": "execute_result"
    }
   ],
   "source": [
    "result = classifier.predict(test_image)\n",
    "result"
   ]
  },
  {
   "cell_type": "code",
   "execution_count": 16,
   "metadata": {},
   "outputs": [],
   "source": [
    "classifier.save('GovMalaria.h5')"
   ]
  },
  {
   "cell_type": "code",
   "execution_count": null,
   "metadata": {},
   "outputs": [],
   "source": []
  }
 ],
 "metadata": {
  "kernelspec": {
   "display_name": "Python 3",
   "language": "python",
   "name": "python3"
  },
  "language_info": {
   "codemirror_mode": {
    "name": "ipython",
    "version": 3
   },
   "file_extension": ".py",
   "mimetype": "text/x-python",
   "name": "python",
   "nbconvert_exporter": "python",
   "pygments_lexer": "ipython3",
   "version": "3.7.7"
  }
 },
 "nbformat": 4,
 "nbformat_minor": 4
}
